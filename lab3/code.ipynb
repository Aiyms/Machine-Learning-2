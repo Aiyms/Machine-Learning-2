{
 "cells": [
  {
   "cell_type": "code",
   "execution_count": 2,
   "metadata": {},
   "outputs": [],
   "source": [
    "import pandas as pd\n",
    "import os\n",
    "from tqdm import tqdm\n",
    "from joblib import Parallel, delayed\n",
    "import multiprocessing\n",
    "import networkx as nx\n",
    "import matplotlib.pyplot as plt\n",
    "from collections import defaultdict\n",
    "from ipywidgets import interact, interactive, fixed, interact_manual,widgets\n",
    "from IPython.display import display\n",
    "import json\n",
    "from yargy import Parser, rule, and_, or_, not_\n",
    "from yargy.interpretation import fact, attribute\n",
    "from yargy.predicates import gram, is_capitalized, dictionary, eq\n",
    "import re\n",
    "import pandas as pd\n",
    "from tqdm import tqdm_notebook\n",
    "from gensim import utils"
   ]
  },
  {
   "cell_type": "code",
   "execution_count": 3,
   "metadata": {
    "ExecuteTime": {
     "end_time": "2020-02-12T14:12:16.470920Z",
     "start_time": "2020-02-12T14:12:15.640262Z"
    },
    "scrolled": true
   },
   "outputs": [
    {
     "data": {
      "text/html": [
       "<div>\n",
       "<style scoped>\n",
       "    .dataframe tbody tr th:only-of-type {\n",
       "        vertical-align: middle;\n",
       "    }\n",
       "\n",
       "    .dataframe tbody tr th {\n",
       "        vertical-align: top;\n",
       "    }\n",
       "\n",
       "    .dataframe thead th {\n",
       "        text-align: right;\n",
       "    }\n",
       "</style>\n",
       "<table border=\"1\" class=\"dataframe\">\n",
       "  <thead>\n",
       "    <tr style=\"text-align: right;\">\n",
       "      <th></th>\n",
       "      <th>word</th>\n",
       "      <th>hyperonym</th>\n",
       "      <th>text</th>\n",
       "      <th>url</th>\n",
       "    </tr>\n",
       "  </thead>\n",
       "  <tbody>\n",
       "    <tr>\n",
       "      <td>0</td>\n",
       "      <td>ГЛАДИОЛУС</td>\n",
       "      <td>растение</td>\n",
       "      <td>Цветущее растение гладиолус (Gladiolus), еще и...</td>\n",
       "      <td>https://rastenievod.com/gladiolusy.html</td>\n",
       "    </tr>\n",
       "    <tr>\n",
       "      <td>1</td>\n",
       "      <td>ГЛАДИОЛУС</td>\n",
       "      <td>цветы</td>\n",
       "      <td>Гладиолусы — цветы, которые любят солнце, поэт...</td>\n",
       "      <td>https://www.nur.kz/1789297-cvetok-gladiolus-po...</td>\n",
       "    </tr>\n",
       "    <tr>\n",
       "      <td>2</td>\n",
       "      <td>ГЛАЗУНЬЯ</td>\n",
       "      <td>метод приготовления яйца</td>\n",
       "      <td>Яичница глазунья — мой самый любимый метод при...</td>\n",
       "      <td>http://hellokitchen.ru/7108/kak-gotovit-yaichn...</td>\n",
       "    </tr>\n",
       "    <tr>\n",
       "      <td>3</td>\n",
       "      <td>ГЛАЗУНЬЯ</td>\n",
       "      <td>завтрак</td>\n",
       "      <td>Яичница глазунья - неотъемлемая часть вкусного...</td>\n",
       "      <td>https://vpuzo.com/recepty-vtoryh-blyud/yaichni...</td>\n",
       "    </tr>\n",
       "    <tr>\n",
       "      <td>4</td>\n",
       "      <td>ГЛАЗУНЬЯ</td>\n",
       "      <td>блюдо</td>\n",
       "      <td>Яичница глазунья - очень питательное блюдо</td>\n",
       "      <td>http://findfood.ru/recept/yaichnica-glazunya</td>\n",
       "    </tr>\n",
       "  </tbody>\n",
       "</table>\n",
       "</div>"
      ],
      "text/plain": [
       "        word                 hyperonym  \\\n",
       "0  ГЛАДИОЛУС                  растение   \n",
       "1  ГЛАДИОЛУС                     цветы   \n",
       "2   ГЛАЗУНЬЯ  метод приготовления яйца   \n",
       "3   ГЛАЗУНЬЯ                   завтрак   \n",
       "4   ГЛАЗУНЬЯ                     блюдо   \n",
       "\n",
       "                                                text  \\\n",
       "0  Цветущее растение гладиолус (Gladiolus), еще и...   \n",
       "1  Гладиолусы — цветы, которые любят солнце, поэт...   \n",
       "2  Яичница глазунья — мой самый любимый метод при...   \n",
       "3  Яичница глазунья - неотъемлемая часть вкусного...   \n",
       "4         Яичница глазунья - очень питательное блюдо   \n",
       "\n",
       "                                                 url  \n",
       "0            https://rastenievod.com/gladiolusy.html  \n",
       "1  https://www.nur.kz/1789297-cvetok-gladiolus-po...  \n",
       "2  http://hellokitchen.ru/7108/kak-gotovit-yaichn...  \n",
       "3  https://vpuzo.com/recepty-vtoryh-blyud/yaichni...  \n",
       "4       http://findfood.ru/recept/yaichnica-glazunya  "
      ]
     },
     "execution_count": 3,
     "metadata": {},
     "output_type": "execute_result"
    }
   ],
   "source": [
    "import pandas as pd\n",
    "\n",
    "data = pd.read_csv('dataset.csv')\n",
    "data.head()"
   ]
  },
  {
   "cell_type": "code",
   "execution_count": 13,
   "metadata": {},
   "outputs": [],
   "source": [
    "START = rule(\n",
    "    gram('NOUN')\n",
    ")\n",
    "START_1 = rule(\n",
    "    or_(\n",
    "        rule(gram('ADJF')),\n",
    "        rule(gram('NOUN'))\n",
    "    ).optional(),\n",
    "    gram('NOUN')\n",
    ")\n",
    "START_2 = rule(\n",
    "    (\n",
    "        rule(gram('ADJF')),\n",
    "        rule(gram('NOUN')),\n",
    "        rule(gram('NOUN'))\n",
    "    ))\n",
    "START_3 = rule(\n",
    "    or_(\n",
    "        rule(gram('ADJF')),\n",
    "        rule(gram('NOUN'))))\n"
   ]
  },
  {
   "cell_type": "code",
   "execution_count": 14,
   "metadata": {},
   "outputs": [],
   "source": [
    "MID = rule(eq('—'))"
   ]
  },
  {
   "cell_type": "code",
   "execution_count": 15,
   "metadata": {},
   "outputs": [],
   "source": [
    "END = rule(\n",
    "         gram('ADJF').repeatable(),\n",
    "        gram('NOUN')\n",
    "    )\n",
    "END_1 = rule(\n",
    "         gram('ADJF'),\n",
    "     rule(gram('NOUN')))\n",
    "\n",
    "END_2 = rule(\n",
    "    gram('NOUN'))"
   ]
  },
  {
   "cell_type": "code",
   "execution_count": 16,
   "metadata": {},
   "outputs": [],
   "source": [
    "def get_hyper(row):\n",
    "    main_word = row['word']\n",
    "    text = row['text']\n",
    "    \n",
    "    HYPONYM = eq(utils.deaccent(main_word.lower()))\n",
    "    RULE = or_(\n",
    "           rule(START, MID, END),\n",
    "           rule(START_1, MID, END), \n",
    "           rule(START_1,HYPONYM, MID, END), \n",
    "           rule(START, MID, END_2),\n",
    "           rule(START_3, MID)\n",
    "    )\n",
    "    parser = Parser(RULE) \n",
    "    text = utils.deaccent(text)\n",
    "    text = re.sub(r'\\(.+?\\)', '', text)\n",
    "    hyps = []\n",
    "    for idx, match in enumerate(parser.findall(text.lower())):\n",
    "        k = [_.value for _ in match.tokens]\n",
    "        hyps.append(k)\n",
    "    print(main_word, hyps)\n",
    "    return hyps"
   ]
  },
  {
   "cell_type": "code",
   "execution_count": 18,
   "metadata": {
    "scrolled": true
   },
   "outputs": [
    {
     "name": "stdout",
     "output_type": "stream",
     "text": [
      "ГЛАДИОЛУС []\n",
      "ГЛАДИОЛУС [['гладиолусы', '—', 'цветы']]\n",
      "ГЛАЗУНЬЯ [['яичница', 'глазунья', '—', 'мои', 'самыи']]\n",
      "ГЛАЗУНЬЯ []\n",
      "ГЛАЗУНЬЯ []\n",
      "ГЛАЗУНЬЯ []\n",
      "ГЛАЗУНЬЯ []\n",
      "ГЛИКОГЕН []\n",
      "ГЛИКОГЕН []\n",
      "ГЛИКОГЕН []\n",
      "ГЛИКОГЕН []\n",
      "ГЛИССЕР [['глиссер', '—', 'легкое', 'быстроходное', 'судно']]\n",
      "ГЛИССЕР []\n",
      "ГЛОССАРИЙ [['глоссарии', '—', 'словарь']]\n",
      "ГЛОССАРИЙ []\n",
      "ГЛУТАМАТ [['глутамат', 'натрия', '—', 'мононатриевая', 'соль']]\n",
      "ГЛУТАМАТ [['глутамат', 'натрия', '—', 'мононатриевая', 'соль']]\n",
      "ГЛУТАМАТ []\n",
      "ГЛУТАМАТ []\n",
      "ГЛЯЦИОЛОГ [['гляциологи', '—']]\n",
      "ГЛЯЦИОЛОГ []\n",
      "ГЛЯЦИОЛОГ []\n",
      "ГЛЯЦИОЛОГ []\n",
      "ГОБОИСТ [['подъемов', '—', 'россиискии']]\n",
      "ГОБОИСТ [['куклес', '—', 'россиискии']]\n",
      "ГОЛАВЛЬ [['головень', '—', 'пресноводная', 'рыба']]\n",
      "ГОЛАВЛЬ []\n",
      "ГОЛАВЛЬ []\n",
      "ГОЛАВЛЬ []\n",
      "ГОЛАВЛЬ []\n"
     ]
    }
   ],
   "source": [
    "data['dec_hyper'] = data.apply(lambda row: get_hyper(row), axis=1)"
   ]
  },
  {
   "cell_type": "code",
   "execution_count": null,
   "metadata": {},
   "outputs": [],
   "source": []
  }
 ],
 "metadata": {
  "kernelspec": {
   "display_name": "Python 3",
   "language": "python",
   "name": "python3"
  },
  "language_info": {
   "codemirror_mode": {
    "name": "ipython",
    "version": 3
   },
   "file_extension": ".py",
   "mimetype": "text/x-python",
   "name": "python",
   "nbconvert_exporter": "python",
   "pygments_lexer": "ipython3",
   "version": "3.7.4"
  }
 },
 "nbformat": 4,
 "nbformat_minor": 2
}
